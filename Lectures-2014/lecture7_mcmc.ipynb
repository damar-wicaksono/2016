{
 "cells": [
  {
   "cell_type": "markdown",
   "metadata": {},
   "source": [
    "# Lecture 7: MCMC\n",
    "\n",
    "AM207: Pavlos Protopapas, Harvard University\n",
    "\n",
    "Feb 18 2014\n",
    "\n",
    "------"
   ]
  },
  {
   "cell_type": "markdown",
   "metadata": {},
   "source": [
    "# A little history \n",
    "\n",
    "In 1946, Stan Ulam while recovering from an illness was playing solitaire and he was trying to find the 'perfect' game by computing the chances that a particular solitaire laid out with 52 cards would come out successfully.\n",
    "He attempted combinatorial calculations but eventually he decided to lay out several solitaires\n",
    "at random and observe the number of successful plays.\n",
    "This idea of selecting a statistical sample to approximate a hard combinatorial problem by a much simpler problem is at the heart of modern Monte Carlo simulation.\n",
    "\n",
    "Ulam realized that computers could be used  to answer questions  of many physics problems (in particular neutron diffusion). \n",
    "With the help of John Von Neumann in the next few years developed many Monte Carlo algorithms, including importance sampling and\n",
    "rejection sampling. \n",
    "[Enrico Fermi in the 1930s also used Monte Carlo in the calculation of neutron diffusion, and later designed the FERMIAC, a Monte Carlo mechanical device that performed calculations].\n",
    "In the 1940s, Nick Metropolis was fascinated with Monte Carlo methods and designed new controls for the state-of-the-art computer (ENIAC) with Klari Von Neumann, John's wife.\n",
    "He also designed an improved computer, which he named the MANIAC in the hope that computer scientists would stop using acronyms.\n",
    "This computing machines became popular amongst many mathematicians and physicists (Fermi, Von Neumann, Ulam, Teller, Richtmyer, Bethe, Feynman, and Gamow) that would go ask him to help them with their problems. \n",
    "In 1949, he published the first public document on Monte Carlo simulation with Stan Ulam (Metropolis and Ulam, 1949).\n",
    "This paper introduced, among other ideas, Monte Carlo particle methods which we will see in later lectures. \n",
    "He proposed the Metropolis algorithm with the Tellers and the Rosenbluths (Metropolis et al., 1953).\n",
    "\n",
    "Metropolis algorithm is among the top ten most used algorithms in science and engineering in the last twenty years. \n",
    "Metropolis algorithm is one of the algorithms in a large class of stochastic algorithms known as Markov chain Monte Carlo (MCMC). These algorithms are often used  in statistics, econometrics, physics and computing science, etc. and have proven to make significant contribution to many scientific fields.\n",
    "Especially in high-dimensional problems, such as computing the volume of a convex body in d-dimensions, for which MCMC simulation is the only known general approach for providing a solution within a reasonable time (polynomial in $d$). \n",
    "\n",
    "The most significant paper after this was the generalization of the Metropolis algorithm by Hastings in 1970.\n",
    "Hastings and his student Peskun showed that Metropolis and the more general Metropolis-Hastings algorithms are particular instances of a large family of algorithms.\n",
    "They studied the optimality of these algorithms and introduced the formulation of the Metropolis-Hastings algorithm that we look in these lectures.\n",
    "\n",
    "There are a few MCMC publications in the statistics literature but it is not until 1990 that MCMC made the first impact in statistics (Gelfand & Smith, 1990)."
   ]
  },
  {
   "cell_type": "code",
   "execution_count": null,
   "metadata": {
    "collapsed": true
   },
   "outputs": [],
   "source": []
  }
 ],
 "metadata": {
  "kernelspec": {
   "display_name": "Python [Root]",
   "language": "python",
   "name": "Python [Root]"
  },
  "language_info": {
   "codemirror_mode": {
    "name": "ipython",
    "version": 3
   },
   "file_extension": ".py",
   "mimetype": "text/x-python",
   "name": "python",
   "nbconvert_exporter": "python",
   "pygments_lexer": "ipython3",
   "version": "3.5.2"
  }
 },
 "nbformat": 4,
 "nbformat_minor": 2
}
